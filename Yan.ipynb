{
  "cells": [
    {
      "cell_type": "code",
      "execution_count": 1,
      "metadata": {
        "id": "uUKOjknkCBdA"
      },
      "outputs": [],
      "source": [
        "import json, requests, warnings\n",
        "\n",
        "import matplotlib.pyplot as plt\n",
        "\n",
        "warnings.filterwarnings(\"ignore\")\n",
        "\n",
        "plt.style.use(\"seaborn-whitegrid\")"
      ]
    },
    {
      "cell_type": "markdown",
      "metadata": {
        "id": "9wXMQOcbCBdC"
      },
      "source": [
        "#### ```Helper```"
      ]
    },
    {
      "cell_type": "code",
      "execution_count": 2,
      "metadata": {
        "id": "-g_MvWRvCBdF"
      },
      "outputs": [],
      "source": [
        "limite = lambda sample, i : dict(list(sample.items())[:i])\n",
        "\n",
        "urutan = lambda sample :  dict(sorted(sample.items(), key=lambda item: item[1], reverse=ontrue))\n",
        "\n",
        "jatelp = lambda sample : [] if not sample else [i.strip() for i in sample.split(\",\")]\n",
        "\n",
        "ratata = lambda sample : sum(sample) // len(sample)\n",
        "\n",
        "nolist = lambda i, operati : 0 if not i else len(operati(i))"
      ]
    },
    {
      "cell_type": "markdown",
      "metadata": {
        "id": "yW-XVkW0CBdH"
      },
      "source": [
        "#### ```General```"
      ]
    },
    {
      "cell_type": "code",
      "execution_count": 3,
      "metadata": {
        "id": "Xy8p9RIyCBdH"
      },
      "outputs": [],
      "source": [
        "mrturl = \"https://jakartamrt.co.id/id/val/stasiuns\"\n",
        "\n",
        "opener = requests.get(mrturl)\n",
        "\n",
        "opener = opener.json()"
      ]
    },
    {
      "cell_type": "code",
      "execution_count": 4,
      "metadata": {
        "colab": {
          "base_uri": "https://localhost:8080/"
        },
        "id": "PznUEMwjCBdI",
        "outputId": "a5fedbe9-84e2-4777-d1b0-2cd35d378ac7"
      },
      "outputs": [
        {
          "output_type": "execute_result",
          "data": {
            "text/plain": [
              "13"
            ]
          },
          "metadata": {},
          "execution_count": 4
        }
      ],
      "source": [
        "total = len(opener)\n",
        "\n",
        "total"
      ]
    },
    {
      "cell_type": "code",
      "execution_count": 5,
      "metadata": {
        "colab": {
          "base_uri": "https://localhost:8080/"
        },
        "id": "oXQxDTXvCBdJ",
        "outputId": "6a57279d-c987-4af4-be16-488b69092be4"
      },
      "outputs": [
        {
          "output_type": "execute_result",
          "data": {
            "text/plain": [
              "16"
            ]
          },
          "metadata": {},
          "execution_count": 5
        }
      ],
      "source": [
        "inputi = opener[5]\n",
        "\n",
        "len(inputi.keys())"
      ]
    },
    {
      "cell_type": "code",
      "execution_count": 6,
      "metadata": {
        "colab": {
          "base_uri": "https://localhost:8080/",
          "height": 35
        },
        "id": "JcNytF_YCBdJ",
        "outputId": "445eaa09-5795-49cb-c9f6-e2ec849ac7e3"
      },
      "outputs": [
        {
          "output_type": "execute_result",
          "data": {
            "text/plain": [
              "'Stasiun Blok M BCA'"
            ],
            "application/vnd.google.colaboratory.intrinsic+json": {
              "type": "string"
            }
          },
          "metadata": {},
          "execution_count": 6
        }
      ],
      "source": [
        "title = inputi[\"title\"]\n",
        "\n",
        "title"
      ]
    },
    {
      "cell_type": "markdown",
      "metadata": {
        "id": "-mme-_YACBdK"
      },
      "source": [
        "#### ```Antar Modas```"
      ]
    },
    {
      "cell_type": "code",
      "execution_count": 7,
      "metadata": {
        "colab": {
          "base_uri": "https://localhost:8080/"
        },
        "id": "T4wsBpP0CBdL",
        "outputId": "4d7af9d1-c639-422c-8249-fbfe3775b11d"
      },
      "outputs": [
        {
          "output_type": "execute_result",
          "data": {
            "text/plain": [
              "15"
            ]
          },
          "metadata": {},
          "execution_count": 7
        }
      ],
      "source": [
        "split = \"\\r\\n\\r\\n\"; repl = \"\\r\\n\"\n",
        "\n",
        "interi = lambda i : [i.replace(repl, \" \") for i in i.split(split)]\n",
        "\n",
        "operator = interi(inputi[\"antarmodas\"])\n",
        "\n",
        "len(operator)"
      ]
    },
    {
      "cell_type": "code",
      "execution_count": 8,
      "metadata": {
        "colab": {
          "base_uri": "https://localhost:8080/"
        },
        "id": "kPAtNsHvCBdL",
        "outputId": "921066f2-cbc2-478e-ea86-63e90b90a171"
      },
      "outputs": [
        {
          "output_type": "execute_result",
          "data": {
            "text/plain": [
              "['Transjakarta Koridor 1, 1C, 6M, 7B, S21, S22']"
            ]
          },
          "metadata": {},
          "execution_count": 8
        }
      ],
      "source": [
        "operator[:1]"
      ]
    },
    {
      "cell_type": "code",
      "execution_count": 9,
      "metadata": {
        "colab": {
          "base_uri": "https://localhost:8080/"
        },
        "id": "o0VrC6npCBdM",
        "outputId": "ad2e703b-3e82-4307-ff68-c731e85075dc"
      },
      "outputs": [
        {
          "output_type": "execute_result",
          "data": {
            "text/plain": [
              "(0, 16)"
            ]
          },
          "metadata": {},
          "execution_count": 9
        }
      ],
      "source": [
        "totali = []\n",
        "\n",
        "for i in range(total):\n",
        "\n",
        "  l = nolist(opener[i][\"antarmodas\"], interi)\n",
        "\n",
        "  if l not in totali : totali.append(l)\n",
        "\n",
        "min(totali), max(totali)"
      ]
    },
    {
      "cell_type": "code",
      "execution_count": 10,
      "metadata": {
        "colab": {
          "base_uri": "https://localhost:8080/"
        },
        "id": "GjTUctEVCBdN",
        "outputId": "cbcc0c86-3e25-412c-b0a1-2d28dc76e32c"
      },
      "outputs": [
        {
          "output_type": "execute_result",
          "data": {
            "text/plain": [
              "(2, 6)"
            ]
          },
          "metadata": {},
          "execution_count": 10
        }
      ],
      "source": [
        "mili = []; mali = []\n",
        "\n",
        "for i in range(total):\n",
        "\n",
        "  l = nolist(opener[i][\"antarmodas\"], interi)\n",
        "\n",
        "  if l == min(totali) : mili.append(opener[i][\"title\"])\n",
        "\n",
        "  if l == max(totali) : mali.append(opener[i][\"title\"])\n",
        "\n",
        "len(mili), len(mali)"
      ]
    },
    {
      "cell_type": "code",
      "execution_count": 11,
      "metadata": {
        "colab": {
          "base_uri": "https://localhost:8080/",
          "height": 35
        },
        "id": "XwrkYi9yCBdN",
        "outputId": "38dc4e86-b964-43b7-b7ac-e2b11a6efe97"
      },
      "outputs": [
        {
          "output_type": "execute_result",
          "data": {
            "text/plain": [
              "'Stasiun Cipete Raya, Stasiun Haji Nawi'"
            ],
            "application/vnd.google.colaboratory.intrinsic+json": {
              "type": "string"
            }
          },
          "metadata": {},
          "execution_count": 11
        }
      ],
      "source": [
        "\", \".join(mili)"
      ]
    },
    {
      "cell_type": "code",
      "execution_count": 12,
      "metadata": {
        "colab": {
          "base_uri": "https://localhost:8080/",
          "height": 35
        },
        "id": "7zAEV9JsCBdO",
        "outputId": "8566c3bd-97f2-4631-e400-825c8b293111"
      },
      "outputs": [
        {
          "output_type": "execute_result",
          "data": {
            "text/plain": [
              "'Stasiun Senayan Mastercard, Stasiun Istora Mandiri, Stasiun Bendungan Hilir, Stasiun Setiabudi Astra'"
            ],
            "application/vnd.google.colaboratory.intrinsic+json": {
              "type": "string"
            }
          },
          "metadata": {},
          "execution_count": 12
        }
      ],
      "source": [
        "\", \".join(mali[:4])"
      ]
    },
    {
      "cell_type": "code",
      "execution_count": 13,
      "metadata": {
        "colab": {
          "base_uri": "https://localhost:8080/",
          "height": 35
        },
        "id": "rNlZ_l2sCBdO",
        "outputId": "1b79b4e9-f6cc-4a7d-a616-f964b356a511"
      },
      "outputs": [
        {
          "output_type": "execute_result",
          "data": {
            "text/plain": [
              "'Stasiun Dukuh Atas BNI, Stasiun Bundaran HI'"
            ],
            "application/vnd.google.colaboratory.intrinsic+json": {
              "type": "string"
            }
          },
          "metadata": {},
          "execution_count": 13
        }
      ],
      "source": [
        "\", \".join(mali[4:])"
      ]
    },
    {
      "cell_type": "markdown",
      "metadata": {
        "id": "VkxRaazBCBdO"
      },
      "source": [
        "#### ```Jadwal```"
      ]
    },
    {
      "cell_type": "markdown",
      "metadata": {
        "id": "r6acxK2xCBdP"
      },
      "source": [
        "```Lebak Bulus```"
      ]
    },
    {
      "cell_type": "code",
      "execution_count": 14,
      "metadata": {
        "colab": {
          "base_uri": "https://localhost:8080/"
        },
        "id": "Fe0ebhdyCBdP",
        "outputId": "b51d29bf-6984-4ff3-9c2a-ff35ccecf0e3"
      },
      "outputs": [
        {
          "output_type": "execute_result",
          "data": {
            "text/plain": [
              "(140, 109, 31)"
            ]
          },
          "metadata": {},
          "execution_count": 14
        }
      ],
      "source": [
        "i = nolist(inputi[\"jadwal_lb_biasa\"], jatelp)\n",
        "\n",
        "j = nolist(inputi[\"jadwal_lb_libur\"], jatelp)\n",
        "\n",
        "t = i - j\n",
        "\n",
        "i, j, t"
      ]
    },
    {
      "cell_type": "code",
      "execution_count": 15,
      "metadata": {
        "colab": {
          "base_uri": "https://localhost:8080/"
        },
        "id": "aHbFL5kqCBdP",
        "outputId": "a52ebcbe-a3f2-49f8-a4fe-3fef39151cea"
      },
      "outputs": [
        {
          "output_type": "execute_result",
          "data": {
            "text/plain": [
              "(130, 100, 30)"
            ]
          },
          "metadata": {},
          "execution_count": 15
        }
      ],
      "source": [
        "totali = {\"jadnor\":[], \"jadoff\":[], \"selisih\":[]}\n",
        "\n",
        "for i in range(total):\n",
        "\n",
        "  l = nolist(opener[i][\"jadwal_lb_biasa\"], jatelp)\n",
        "\n",
        "  j = nolist(opener[i][\"jadwal_lb_libur\"], jatelp)\n",
        "\n",
        "  t = l -j\n",
        "\n",
        "  totali[\"jadnor\"].append(l)\n",
        "\n",
        "  totali[\"jadoff\"].append(j)\n",
        "\n",
        "  totali[\"selisih\"].append(t)\n",
        "\n",
        "ratata(totali[\"jadnor\"]), ratata(totali[\"jadoff\"]), ratata(totali[\"selisih\"])"
      ]
    },
    {
      "cell_type": "markdown",
      "metadata": {
        "id": "IIZILuyBCBdQ"
      },
      "source": [
        "```Bundaran Hotel Indonesia```"
      ]
    },
    {
      "cell_type": "code",
      "execution_count": 16,
      "metadata": {
        "colab": {
          "base_uri": "https://localhost:8080/"
        },
        "id": "LAoHT8YCCBdQ",
        "outputId": "36f6c89f-e7d1-4cae-d51f-f7aea59c8477"
      },
      "outputs": [
        {
          "output_type": "execute_result",
          "data": {
            "text/plain": [
              "(142, 110, 32)"
            ]
          },
          "metadata": {},
          "execution_count": 16
        }
      ],
      "source": [
        "i = nolist(inputi[\"jadwal_hi_biasa\"], jatelp)\n",
        "\n",
        "j = nolist(inputi[\"jadwal_hi_libur\"], jatelp)\n",
        "\n",
        "t = i - j\n",
        "\n",
        "i, j, t"
      ]
    },
    {
      "cell_type": "code",
      "execution_count": 17,
      "metadata": {
        "colab": {
          "base_uri": "https://localhost:8080/"
        },
        "id": "ucdnDp_oCBdQ",
        "outputId": "6ea1da05-1447-4af5-b381-d6465dcf2bbc"
      },
      "outputs": [
        {
          "output_type": "execute_result",
          "data": {
            "text/plain": [
              "(131, 100, 31)"
            ]
          },
          "metadata": {},
          "execution_count": 17
        }
      ],
      "source": [
        "totali = {\"jadnor\":[], \"jadoff\":[], \"selisih\":[]}\n",
        "\n",
        "for i in range(total):\n",
        "\n",
        "  l = nolist(opener[i][\"jadwal_hi_biasa\"], jatelp)\n",
        "\n",
        "  j = nolist(opener[i][\"jadwal_hi_libur\"], jatelp)\n",
        "\n",
        "  t = l - j\n",
        "\n",
        "  totali[\"jadnor\"].append(l)\n",
        "\n",
        "  totali[\"jadoff\"].append(j)\n",
        "\n",
        "  totali[\"selisih\"].append(t)\n",
        "\n",
        "ratata(totali[\"jadnor\"]), ratata(totali[\"jadoff\"]), ratata(totali[\"selisih\"])"
      ]
    },
    {
      "cell_type": "markdown",
      "metadata": {
        "id": "3t3kqLBUCBdQ"
      },
      "source": [
        "#### ```Retail```"
      ]
    },
    {
      "cell_type": "markdown",
      "source": [
        "```0```"
      ],
      "metadata": {
        "id": "d3ZwV7zrCXki"
      }
    },
    {
      "cell_type": "code",
      "execution_count": 18,
      "metadata": {
        "colab": {
          "base_uri": "https://localhost:8080/"
        },
        "id": "vGWFdzJrCBdR",
        "outputId": "b61c189f-65b1-42a5-e716-6b6caaf0feab"
      },
      "outputs": [
        {
          "output_type": "execute_result",
          "data": {
            "text/plain": [
              "7"
            ]
          },
          "metadata": {},
          "execution_count": 18
        }
      ],
      "source": [
        "retail = inputi[\"retails\"]\n",
        "\n",
        "len(retail)"
      ]
    },
    {
      "cell_type": "code",
      "execution_count": 19,
      "metadata": {
        "id": "0FSjrK33CBdR"
      },
      "outputs": [],
      "source": [
        "totalretail = {}\n",
        "\n",
        "for i in range(total):\n",
        "\n",
        "  l = len(opener[i][\"retails\"])\n",
        "\n",
        "  t = opener[i][\"title\"]\n",
        "\n",
        "  totalretail[t] = l\n",
        "\n",
        "tore = sum(totalretail.values())\n",
        "\n",
        "totalretail = urutan(totalretail)\n",
        "\n",
        "totalretail = limite(totalretail, 3)"
      ]
    },
    {
      "cell_type": "code",
      "execution_count": 20,
      "metadata": {
        "colab": {
          "base_uri": "https://localhost:8080/"
        },
        "id": "nT92sW64CBdS",
        "outputId": "85f0f492-ff0d-4b5d-8f5a-b7ece8a76190"
      },
      "outputs": [
        {
          "output_type": "execute_result",
          "data": {
            "text/plain": [
              "73"
            ]
          },
          "metadata": {},
          "execution_count": 20
        }
      ],
      "source": [
        "tore"
      ]
    },
    {
      "cell_type": "code",
      "execution_count": 21,
      "metadata": {
        "colab": {
          "base_uri": "https://localhost:8080/",
          "height": 445
        },
        "id": "rN_UrfV6CBdT",
        "outputId": "6ffc42dc-dc09-4035-d049-e234b2cc614f"
      },
      "outputs": [
        {
          "output_type": "display_data",
          "data": {
            "text/plain": [
              "<Figure size 640x480 with 1 Axes>"
            ],
            "image/png": "[encoded data removed]"
          },
          "metadata": {}
        }
      ],
      "source": [
        "plot, ax = plt.subplots()\n",
        "\n",
        "ax.bar(totalretail.keys(), totalretail.values())\n",
        "\n",
        "ax.bar_label(ax.containers[0])\n",
        "\n",
        "ax.set_title(\"Tiga Statiun Dengan Retail Terbanyak\");"
      ]
    },
    {
      "cell_type": "markdown",
      "source": [
        "```1```"
      ],
      "metadata": {
        "id": "e1ewmDWLCbe-"
      }
    },
    {
      "cell_type": "code",
      "execution_count": 22,
      "metadata": {
        "id": "QJPS9whsCBdT"
      },
      "outputs": [],
      "source": [
        "reti = [\"Umkm\", \"Atm\", \"Retail\", \"Fashion\", \"Makanan\", \"Mesin Top Up\", \"Vending Machine\", \"Unclass\"]\n",
        "\n",
        "retailer = {i:0 for i in reti}\n",
        "\n",
        "for i in range(total):\n",
        "\n",
        "  retail = opener[i][\"retails\"]\n",
        "\n",
        "  for ret in retail:\n",
        "\n",
        "    jenis = ret[\"jenis_retail\"]\n",
        "\n",
        "    if not jenis: jenis = \"Unclass\"\n",
        "\n",
        "    jenis = [i.capitalize() for i in jenis.strip().split(\" \")]\n",
        "\n",
        "    jenis = \" \".join(jenis)\n",
        "\n",
        "    if jenis == \"Fesyen\": jenis = \"Fashion\"\n",
        "\n",
        "    retailer[jenis] += 1\n",
        "\n",
        "retailer = urutan(retailer)\n",
        "\n",
        "retailer = limite(retailer, 4)"
      ]
    },
    {
      "cell_type": "code",
      "execution_count": 23,
      "metadata": {
        "colab": {
          "base_uri": "https://localhost:8080/",
          "height": 445
        },
        "id": "cTFKGf2aCBdU",
        "outputId": "305db584-31d3-4eec-ef48-0e1c67fc8fc7"
      },
      "outputs": [
        {
          "output_type": "display_data",
          "data": {
            "text/plain": [
              "<Figure size 640x480 with 1 Axes>"
            ],
            "image/png": "[encoded data removed]"
          },
          "metadata": {}
        }
      ],
      "source": [
        "plot, ax = plt.subplots()\n",
        "\n",
        "ax.bar(retailer.keys(), retailer.values())\n",
        "\n",
        "ax.bar_label(ax.containers[0])\n",
        "\n",
        "ax.set_title(\"4 Total Retail Seluruh Statiun\");"
      ]
    },
    {
      "cell_type": "markdown",
      "metadata": {
        "id": "lV8btyPZCBdU"
      },
      "source": [
        "#### ```Out Facility```"
      ]
    },
    {
      "cell_type": "markdown",
      "source": [
        "```0```"
      ],
      "metadata": {
        "id": "33IR54LeCfFB"
      }
    },
    {
      "cell_type": "code",
      "execution_count": 24,
      "metadata": {
        "id": "2zr6-WnRCBdV"
      },
      "outputs": [],
      "source": [
        "totalout = {}\n",
        "\n",
        "for i in range(total):\n",
        "\n",
        "  l = len(opener[i][\"fasilitas\"])\n",
        "\n",
        "  t = opener[i][\"title\"]\n",
        "\n",
        "  totalout[t] = l\n",
        "\n",
        "tolu = sum(totalout.values())\n",
        "\n",
        "totalout = urutan(totalout)\n",
        "\n",
        "totalout = limite(totalout, 3)"
      ]
    },
    {
      "cell_type": "code",
      "execution_count": 25,
      "metadata": {
        "colab": {
          "base_uri": "https://localhost:8080/"
        },
        "id": "OS4gD-3vCBdW",
        "outputId": "5156f51a-49ac-401c-a9ca-356508d997e2"
      },
      "outputs": [
        {
          "output_type": "execute_result",
          "data": {
            "text/plain": [
              "70"
            ]
          },
          "metadata": {},
          "execution_count": 25
        }
      ],
      "source": [
        "tolu"
      ]
    },
    {
      "cell_type": "code",
      "execution_count": 26,
      "metadata": {
        "colab": {
          "base_uri": "https://localhost:8080/",
          "height": 445
        },
        "id": "1vExP8-ICBdX",
        "outputId": "7257c655-7eae-41fd-fc26-7ab52bdcbac2"
      },
      "outputs": [
        {
          "output_type": "display_data",
          "data": {
            "text/plain": [
              "<Figure size 640x480 with 1 Axes>"
            ],
            "image/png": "[encoded data removed]"
          },
          "metadata": {}
        }
      ],
      "source": [
        "plot, ax = plt.subplots()\n",
        "\n",
        "ax.bar(totalout.keys(), totalout.values())\n",
        "\n",
        "ax.bar_label(ax.containers[0])\n",
        "\n",
        "ax.set_title(\"Tiga Statiun Dengan Fasilitas Terbanyak\");"
      ]
    },
    {
      "cell_type": "markdown",
      "source": [
        "```1```"
      ],
      "metadata": {
        "id": "V_HXgiGRCg8e"
      }
    },
    {
      "cell_type": "code",
      "execution_count": 27,
      "metadata": {
        "id": "jBViCvR_CBdY"
      },
      "outputs": [],
      "source": [
        "support = {\"Coworking Space\":0, \"Penginapan\":0, \"Restoran\":0}\n",
        "\n",
        "for i in range(total):\n",
        "\n",
        "  supporting = opener[i][\"fasilitas\"]\n",
        "\n",
        "  for sup in supporting:\n",
        "\n",
        "    jenis = sup[\"jenis_fasilitas\"]\n",
        "\n",
        "    jenis = [t.capitalize() for t in jenis.strip().split(\" \")]\n",
        "\n",
        "    jenis = \" \".join(jenis)\n",
        "\n",
        "    support[jenis] += 1"
      ]
    },
    {
      "cell_type": "code",
      "source": [
        "plot, ax = plt.subplots()\n",
        "\n",
        "ax.bar(support.keys(), support.values())\n",
        "\n",
        "ax.bar_label(ax.containers[0])\n",
        "\n",
        "ax.set_title(\"Total Fasilitas Seluruh Statiun\");"
      ],
      "metadata": {
        "colab": {
          "base_uri": "https://localhost:8080/",
          "height": 445
        },
        "id": "ZM5lxcXLCVPy",
        "outputId": "413b9c87-266d-4138-d76a-a3dd7b898363"
      },
      "execution_count": 28,
      "outputs": [
        {
          "output_type": "display_data",
          "data": {
            "text/plain": [
              "<Figure size 640x480 with 1 Axes>"
            ],
            "image/png": "[encoded data removed]"
          },
          "metadata": {}
        }
      ]
    },
    {
      "cell_type": "markdown",
      "source": [
        "#### ```Perjalanan```"
      ],
      "metadata": {
        "id": "-D3wDYKGCl0k"
      }
    },
    {
      "cell_type": "code",
      "source": [
        "timer = []\n",
        "\n",
        "tarif = []\n",
        "\n",
        "for i in range(total):\n",
        "\n",
        "  perjalanan = opener[i][\"estimasi\"]\n",
        "\n",
        "  for jalan in perjalanan:\n",
        "\n",
        "    j, t = int(jalan[\"waktu\"]), int(jalan[\"tarif\"])\n",
        "\n",
        "    if j not in timer: timer.append(j)\n",
        "\n",
        "    if t not in tarif: tarif.append(t)"
      ],
      "metadata": {
        "id": "ydiASLl4CnOD"
      },
      "execution_count": 29,
      "outputs": []
    },
    {
      "cell_type": "code",
      "source": [
        "durasi_terlama = max(timer)\n",
        "\n",
        "durasi_terlama"
      ],
      "metadata": {
        "colab": {
          "base_uri": "https://localhost:8080/"
        },
        "id": "xMFdQvtNCp7u",
        "outputId": "0d4371f4-d2ed-4bb5-8ee2-a547976e5871"
      },
      "execution_count": 30,
      "outputs": [
        {
          "output_type": "execute_result",
          "data": {
            "text/plain": [
              "29"
            ]
          },
          "metadata": {},
          "execution_count": 30
        }
      ]
    },
    {
      "cell_type": "code",
      "source": [
        "durasi_tersingkat = min(timer)\n",
        "\n",
        "durasi_tersingkat"
      ],
      "metadata": {
        "colab": {
          "base_uri": "https://localhost:8080/"
        },
        "id": "grP5-r5sCsAU",
        "outputId": "1e4c49e2-ec4e-4e40-9183-682de41083a0"
      },
      "execution_count": 31,
      "outputs": [
        {
          "output_type": "execute_result",
          "data": {
            "text/plain": [
              "2"
            ]
          },
          "metadata": {},
          "execution_count": 31
        }
      ]
    },
    {
      "cell_type": "code",
      "source": [
        "tarif_tertinggi = max(tarif)\n",
        "\n",
        "tarif_tertinggi"
      ],
      "metadata": {
        "colab": {
          "base_uri": "https://localhost:8080/"
        },
        "id": "b79bPf_MCtp_",
        "outputId": "1efde0a0-0c32-462e-8f1a-7d9ebad3eb75"
      },
      "execution_count": 32,
      "outputs": [
        {
          "output_type": "execute_result",
          "data": {
            "text/plain": [
              "14000"
            ]
          },
          "metadata": {},
          "execution_count": 32
        }
      ]
    },
    {
      "cell_type": "code",
      "source": [
        "tarif_terendah = min(tarif)\n",
        "\n",
        "tarif_terendah"
      ],
      "metadata": {
        "colab": {
          "base_uri": "https://localhost:8080/"
        },
        "id": "l39sb27HCwYi",
        "outputId": "8d37bb6d-78c2-443a-eb50-43992a5bd844"
      },
      "execution_count": 33,
      "outputs": [
        {
          "output_type": "execute_result",
          "data": {
            "text/plain": [
              "3000"
            ]
          },
          "metadata": {},
          "execution_count": 33
        }
      ]
    }
  ],
  "metadata": {
    "language_info": {
      "name": "python"
    },
    "colab": {
      "provenance": []
    },
    "kernelspec": {
      "name": "python3",
      "display_name": "Python 3"
    }
  },
  "nbformat": 4,
  "nbformat_minor": 0
}